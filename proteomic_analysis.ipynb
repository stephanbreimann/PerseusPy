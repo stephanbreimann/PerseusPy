{
 "cells": [
  {
   "cell_type": "markdown",
   "source": [
    "# Proteomics analysis using PerseusPy\n",
    "A simple proteomics analysis by calculating the log2 fold changes (rations) as well as the p-values\n",
    "for mass spec intensities of various proteins between sample groups. The results are visualized using\n",
    "a Volcano plot."
   ],
   "metadata": {
    "collapsed": false
   }
  },
  {
   "cell_type": "code",
   "execution_count": 61,
   "outputs": [],
   "source": [
    "import os\n",
    "import pandas as pd\n",
    "import matplotlib.pyplot as plt\n",
    "from IPython.display import display, HTML\n",
    "from perseuspy import PerseusPipeline, get_dict_groups\n",
    "\n",
    "# Settings\n",
    "pd.set_option('display.max_rows', 100)\n",
    "pd.set_option('display.max_columns', 100)\n",
    "pd.set_option('display.width', 1000)\n",
    "FOLDER_DATA = os.path.dirname(os.path.abspath(\"__file__\")) + \"/data/\""
   ],
   "metadata": {
    "collapsed": false,
    "pycharm": {
     "name": "#%%\n"
    }
   }
  },
  {
   "cell_type": "markdown",
   "source": [
    "## Load data"
   ],
   "metadata": {
    "collapsed": false
   }
  },
  {
   "cell_type": "code",
   "execution_count": 62,
   "outputs": [],
   "source": [
    "df = pd.read_csv(FOLDER_DATA + \"npc_symptomatic_mice.csv\")"
   ],
   "metadata": {
    "collapsed": false,
    "pycharm": {
     "name": "#%%\n"
    }
   }
  },
  {
   "cell_type": "markdown",
   "source": [
    "# Perseus analysis\n",
    "## 1. Define groups for Perseus analysis\n",
    "Groups have to be defined and saved in a dictionary, which will be used to together with the input data\n",
    "as arguments for the PerseusPipeline object."
   ],
   "metadata": {
    "collapsed": false
   }
  },
  {
   "cell_type": "code",
   "execution_count": 63,
   "outputs": [],
   "source": [
    "groups = [\"WT\", \"Npc1-/-\"]\n",
    "dict_col_group = get_dict_groups(df=df, lfq_str=\"Log2 LFQ\", groups=groups)"
   ],
   "metadata": {
    "collapsed": false,
    "pycharm": {
     "name": "#%%\n"
    }
   }
  },
  {
   "cell_type": "markdown",
   "source": [
    "## 2. Run Perseus pipeline"
   ],
   "metadata": {
    "collapsed": false
   }
  },
  {
   "cell_type": "code",
   "execution_count": 64,
   "outputs": [
    {
     "data": {
      "text/plain": "<IPython.core.display.HTML object>",
      "text/html": "<table border=\"1\" class=\"dataframe\">\n  <thead>\n    <tr style=\"text-align: right;\">\n      <th></th>\n      <th>ACC</th>\n      <th>Gene_Name</th>\n      <th>log2 ratio (Npc1-/-/WT)</th>\n      <th>-log10 p value (Npc1-/-/WT)</th>\n    </tr>\n  </thead>\n  <tbody>\n    <tr>\n      <th>0</th>\n      <td>P31996</td>\n      <td>Cd68</td>\n      <td>3.396667</td>\n      <td>6.051146</td>\n    </tr>\n    <tr>\n      <th>1</th>\n      <td>P57716</td>\n      <td>Ncstn</td>\n      <td>1.478333</td>\n      <td>4.899561</td>\n    </tr>\n    <tr>\n      <th>2</th>\n      <td>P29416</td>\n      <td>Hexa</td>\n      <td>2.606667</td>\n      <td>4.912819</td>\n    </tr>\n    <tr>\n      <th>3</th>\n      <td>P61226</td>\n      <td>Rap2b</td>\n      <td>2.001667</td>\n      <td>4.456391</td>\n    </tr>\n    <tr>\n      <th>4</th>\n      <td>Q8CI51</td>\n      <td>Pdlim5</td>\n      <td>-1.186667</td>\n      <td>4.443819</td>\n    </tr>\n    <tr>\n      <th>5</th>\n      <td>P60843</td>\n      <td>Eif4a1</td>\n      <td>0.443333</td>\n      <td>4.196782</td>\n    </tr>\n    <tr>\n      <th>6</th>\n      <td>O89023</td>\n      <td>Tpp1</td>\n      <td>1.331667</td>\n      <td>4.876209</td>\n    </tr>\n    <tr>\n      <th>7</th>\n      <td>Q8JZV7</td>\n      <td>Amdhd2</td>\n      <td>1.846667</td>\n      <td>4.555134</td>\n    </tr>\n    <tr>\n      <th>8</th>\n      <td>P11438</td>\n      <td>Lamp1</td>\n      <td>2.576667</td>\n      <td>4.613440</td>\n    </tr>\n    <tr>\n      <th>9</th>\n      <td>Q9Z110</td>\n      <td>Aldh18a1</td>\n      <td>0.733333</td>\n      <td>4.851562</td>\n    </tr>\n  </tbody>\n</table>"
     },
     "metadata": {},
     "output_type": "display_data"
    }
   ],
   "source": [
    "pp = PerseusPipeline(df=df, dict_col_group=dict_col_group)\n",
    "df_ratio_pval = pp.run(gmean=False)\n",
    "display(HTML(df_ratio_pval.head(10).to_html()))"
   ],
   "metadata": {
    "collapsed": false,
    "pycharm": {
     "name": "#%%\n"
    }
   }
  },
  {
   "cell_type": "markdown",
   "source": [
    "## 3. Volcano plot"
   ],
   "metadata": {
    "collapsed": false
   }
  },
  {
   "cell_type": "code",
   "execution_count": 65,
   "outputs": [
    {
     "ename": "ValueError",
     "evalue": "log2 ratio (WT/Npc1-/-) should be one of following: ['ACC', 'Gene_Name', 'log2 ratio (Npc1-/-/WT)', '-log10 p value (Npc1-/-/WT)']",
     "output_type": "error",
     "traceback": [
      "\u001B[0;31m---------------------------------------------------------------------------\u001B[0m",
      "\u001B[0;31mValueError\u001B[0m                                Traceback (most recent call last)",
      "\u001B[0;32m/tmp/ipykernel_11255/650638668.py\u001B[0m in \u001B[0;36m<module>\u001B[0;34m\u001B[0m\n\u001B[0;32m----> 1\u001B[0;31m pp.volcano_plot(df_ratio_pval=df_ratio_pval,\n\u001B[0m\u001B[1;32m      2\u001B[0m                 \u001B[0mcol_pval\u001B[0m\u001B[0;34m=\u001B[0m\u001B[0;34m\"-log10 p value (WT/Npc1-/-)\"\u001B[0m\u001B[0;34m,\u001B[0m\u001B[0;34m\u001B[0m\u001B[0;34m\u001B[0m\u001B[0m\n\u001B[1;32m      3\u001B[0m                 \u001B[0mcol_ratio\u001B[0m\u001B[0;34m=\u001B[0m\u001B[0;34m\"log2 ratio (WT/Npc1-/-)\"\u001B[0m\u001B[0;34m,\u001B[0m\u001B[0;34m\u001B[0m\u001B[0;34m\u001B[0m\u001B[0m\n\u001B[1;32m      4\u001B[0m                 \u001B[0mth_filter\u001B[0m\u001B[0;34m=\u001B[0m\u001B[0;34m(\u001B[0m\u001B[0;36m0.05\u001B[0m\u001B[0;34m,\u001B[0m \u001B[0;36m0.5\u001B[0m\u001B[0;34m)\u001B[0m\u001B[0;34m,\u001B[0m\u001B[0;34m\u001B[0m\u001B[0;34m\u001B[0m\u001B[0m\n\u001B[1;32m      5\u001B[0m                 \u001B[0mth_text\u001B[0m\u001B[0;34m=\u001B[0m\u001B[0;34m(\u001B[0m\u001B[0;36m0.05\u001B[0m\u001B[0;34m,\u001B[0m \u001B[0;34m-\u001B[0m\u001B[0;36m2.5\u001B[0m\u001B[0;34m,\u001B[0m \u001B[0;36m2.5\u001B[0m\u001B[0;34m)\u001B[0m\u001B[0;34m,\u001B[0m\u001B[0;34m\u001B[0m\u001B[0;34m\u001B[0m\u001B[0m\n",
      "\u001B[0;32m~/Programming/Pycharm_Projekte/Modules/PerseusPy/perseuspy/per_plots.py\u001B[0m in \u001B[0;36mvolcano_plot\u001B[0;34m(df_ratio_pval, col_ratio, col_pval, gene_list, title, th_filter, th_text, precision, force, avoid_conflict, fig_format, verbose, loc_legnd, filled_circle, box, label_bold, label_size, minor_ticks)\u001B[0m\n\u001B[1;32m    187\u001B[0m         \u001B[0;31m# Check and Adjust parameters\u001B[0m\u001B[0;34m\u001B[0m\u001B[0;34m\u001B[0m\u001B[0;34m\u001B[0m\u001B[0m\n\u001B[1;32m    188\u001B[0m         \u001B[0;32mfor\u001B[0m \u001B[0mcol\u001B[0m \u001B[0;32min\u001B[0m \u001B[0;34m[\u001B[0m\u001B[0mcol_ratio\u001B[0m\u001B[0;34m,\u001B[0m \u001B[0mcol_pval\u001B[0m\u001B[0;34m]\u001B[0m\u001B[0;34m:\u001B[0m\u001B[0;34m\u001B[0m\u001B[0;34m\u001B[0m\u001B[0m\n\u001B[0;32m--> 189\u001B[0;31m             \u001B[0m_check_col\u001B[0m\u001B[0;34m(\u001B[0m\u001B[0mdf_ratio_pval\u001B[0m\u001B[0;34m,\u001B[0m \u001B[0mcol\u001B[0m\u001B[0;34m=\u001B[0m\u001B[0mcol\u001B[0m\u001B[0;34m)\u001B[0m\u001B[0;34m\u001B[0m\u001B[0;34m\u001B[0m\u001B[0m\n\u001B[0m\u001B[1;32m    190\u001B[0m         \u001B[0m_check_gene_list\u001B[0m\u001B[0;34m(\u001B[0m\u001B[0mdf\u001B[0m\u001B[0;34m=\u001B[0m\u001B[0mdf_ratio_pval\u001B[0m\u001B[0;34m,\u001B[0m \u001B[0mgene_list\u001B[0m\u001B[0;34m=\u001B[0m\u001B[0mgene_list\u001B[0m\u001B[0;34m)\u001B[0m\u001B[0;34m\u001B[0m\u001B[0;34m\u001B[0m\u001B[0m\n\u001B[1;32m    191\u001B[0m         \u001B[0;32mif\u001B[0m \u001B[0mtitle\u001B[0m \u001B[0;32mis\u001B[0m \u001B[0;32mNone\u001B[0m\u001B[0;34m:\u001B[0m\u001B[0;34m\u001B[0m\u001B[0;34m\u001B[0m\u001B[0m\n",
      "\u001B[0;32m~/Programming/Pycharm_Projekte/Modules/PerseusPy/perseuspy/per_plots.py\u001B[0m in \u001B[0;36m_check_col\u001B[0;34m(df, col)\u001B[0m\n\u001B[1;32m     28\u001B[0m     \u001B[0;34m\"\"\"Check if col in df\"\"\"\u001B[0m\u001B[0;34m\u001B[0m\u001B[0;34m\u001B[0m\u001B[0m\n\u001B[1;32m     29\u001B[0m     \u001B[0;32mif\u001B[0m \u001B[0mcol\u001B[0m \u001B[0;32mnot\u001B[0m \u001B[0;32min\u001B[0m \u001B[0mlist\u001B[0m\u001B[0;34m(\u001B[0m\u001B[0mdf\u001B[0m\u001B[0;34m)\u001B[0m\u001B[0;34m:\u001B[0m\u001B[0;34m\u001B[0m\u001B[0;34m\u001B[0m\u001B[0m\n\u001B[0;32m---> 30\u001B[0;31m         \u001B[0;32mraise\u001B[0m \u001B[0mValueError\u001B[0m\u001B[0;34m(\u001B[0m\u001B[0;34m\"{} should be one of following: {}\"\u001B[0m\u001B[0;34m.\u001B[0m\u001B[0mformat\u001B[0m\u001B[0;34m(\u001B[0m\u001B[0mcol\u001B[0m\u001B[0;34m,\u001B[0m \u001B[0mlist\u001B[0m\u001B[0;34m(\u001B[0m\u001B[0mdf\u001B[0m\u001B[0;34m)\u001B[0m\u001B[0;34m)\u001B[0m\u001B[0;34m)\u001B[0m\u001B[0;34m\u001B[0m\u001B[0;34m\u001B[0m\u001B[0m\n\u001B[0m\u001B[1;32m     31\u001B[0m \u001B[0;34m\u001B[0m\u001B[0m\n\u001B[1;32m     32\u001B[0m \u001B[0;34m\u001B[0m\u001B[0m\n",
      "\u001B[0;31mValueError\u001B[0m: log2 ratio (WT/Npc1-/-) should be one of following: ['ACC', 'Gene_Name', 'log2 ratio (Npc1-/-/WT)', '-log10 p value (Npc1-/-/WT)']"
     ]
    }
   ],
   "source": [
    "pp.volcano_plot(df_ratio_pval=df_ratio_pval,\n",
    "                col_pval=\"-log10 p value (WT/Npc1-/-)\",\n",
    "                col_ratio=\"log2 ratio (WT/Npc1-/-)\",\n",
    "                th_filter=(0.05, 0.5),\n",
    "                th_text=(0.05, -2.5, 2.5),\n",
    "                force=(0.9, 0.50, 0.25),\n",
    "                avoid_conflict=0.2,\n",
    "                precision=0.01,\n",
    "                box=True,\n",
    "                verbose=True,\n",
    "                label_bold=False,\n",
    "                label_size=10,\n",
    "                filled_circle=True,\n",
    "                title=\"Test_Volcano_mean\",\n",
    "                fig_format=\"svg\")\n",
    "plt.show()"
   ],
   "metadata": {
    "collapsed": false,
    "pycharm": {
     "name": "#%%\n"
    }
   }
  }
 ],
 "metadata": {
  "kernelspec": {
   "name": "pycharm-d9ae9d30",
   "language": "python",
   "display_name": "PyCharm (PerseusPy)"
  },
  "language_info": {
   "codemirror_mode": {
    "name": "ipython",
    "version": 2
   },
   "file_extension": ".py",
   "mimetype": "text/x-python",
   "name": "python",
   "nbconvert_exporter": "python",
   "pygments_lexer": "ipython2",
   "version": "2.7.6"
  }
 },
 "nbformat": 4,
 "nbformat_minor": 0
}