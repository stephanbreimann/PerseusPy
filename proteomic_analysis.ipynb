{
 "cells": [
  {
   "cell_type": "markdown",
   "source": [
    "# Proteomics analysis using PerseusPy\n",
    "A simple proteomics analysis by calculating the log2 fold changes (rations) as well as the p-values\n",
    "for mass spec intensities of various proteins between sample groups. The results are visualized using\n",
    "a Volcano plot."
   ],
   "metadata": {
    "collapsed": false
   }
  },
  {
   "cell_type": "code",
   "execution_count": 33,
   "outputs": [],
   "source": [
    "import os\n",
    "import pandas as pd\n",
    "import matplotlib.pyplot as plt\n",
    "from IPython.display import display, HTML\n",
    "from perseuspy import PerseusPipeline, get_dict_groups\n",
    "\n",
    "# Settings\n",
    "pd.set_option('expand_frame_repr', False)  # Single line print for pd.Dataframe\n",
    "FOLDER_DATA = os.path.dirname(os.path.abspath(\"__file__\")) + \"/data/\""
   ],
   "metadata": {
    "collapsed": false,
    "pycharm": {
     "name": "#%%\n"
    }
   }
  },
  {
   "cell_type": "markdown",
   "source": [
    "## Load data"
   ],
   "metadata": {
    "collapsed": false
   }
  },
  {
   "cell_type": "code",
   "execution_count": 34,
   "outputs": [],
   "source": [
    "df = pd.read_csv(FOLDER_DATA + \"npc_symptomatic_mice.csv\")"
   ],
   "metadata": {
    "collapsed": false,
    "pycharm": {
     "name": "#%%\n"
    }
   }
  },
  {
   "cell_type": "markdown",
   "source": [
    "# Perseus analysis\n",
    "## 1. Define groups for Perseus analysis\n",
    "Groups have to be defined and saved in a dictionary, which will be used to together with the input data\n",
    "as arguments for the PerseusPipeline object."
   ],
   "metadata": {
    "collapsed": false
   }
  },
  {
   "cell_type": "code",
   "execution_count": 35,
   "outputs": [],
   "source": [
    "groups = [\"Npc1-/-_8weeks\", \"WT_8weeks\"]\n",
    "dict_col_group = get_dict_groups(df=df, lfq_str=\"Log2 LFQ\", groups=groups)"
   ],
   "metadata": {
    "collapsed": false,
    "pycharm": {
     "name": "#%%\n"
    }
   }
  },
  {
   "cell_type": "markdown",
   "source": [
    "## 2. Run Perseus pipeline"
   ],
   "metadata": {
    "collapsed": false
   }
  },
  {
   "cell_type": "code",
   "execution_count": 36,
   "outputs": [
    {
     "name": "stdout",
     "output_type": "stream",
     "text": [
      "         ACC Gene_Name  log2 ratio (Npc1-/-_8weeks/Npc1-/-_8weeks)  log2 ratio (WT_8weeks/Npc1-/-_8weeks)  log2 ratio (Npc1-/-_8weeks/WT_8weeks)  log2 ratio (WT_8weeks/WT_8weeks)  -log10 p value (Npc1-/-_8weeks/Npc1-/-_8weeks)  -log10 p value (WT_8weeks/Npc1-/-_8weeks)  -log10 p value (Npc1-/-_8weeks/WT_8weeks)  -log10 p value (WT_8weeks/WT_8weeks)\n",
      "0     P31996      Cd68                                         0.0                              -3.396667                               3.396667                               0.0                                            -0.0                                   6.051146                                   6.051146                                  -0.0\n",
      "1     P57716     Ncstn                                         0.0                              -1.478333                               1.478333                               0.0                                            -0.0                                   4.899561                                   4.899561                                  -0.0\n",
      "2     P29416      Hexa                                         0.0                              -2.606667                               2.606667                               0.0                                            -0.0                                   4.912819                                   4.912819                                  -0.0\n",
      "3     P61226     Rap2b                                         0.0                              -2.001667                               2.001667                               0.0                                            -0.0                                   4.456391                                   4.456391                                  -0.0\n",
      "4     Q8CI51    Pdlim5                                         0.0                               1.186667                              -1.186667                               0.0                                            -0.0                                   4.443819                                   4.443819                                   NaN\n",
      "...      ...       ...                                         ...                                    ...                                    ...                               ...                                             ...                                        ...                                        ...                                   ...\n",
      "4168  P70349     Hint1                                         0.0                              -0.098333                               0.098333                               0.0                                            -0.0                                   0.259807                                   0.259807                                  -0.0\n",
      "4169  Q9D8V0      Hm13                                         0.0                              -0.070000                               0.070000                               0.0                                            -0.0                                   0.140167                                   0.140167                                  -0.0\n",
      "4170  Q61559     Fcgrt                                         0.0                              -0.023333                               0.023333                               0.0                                            -0.0                                   0.037631                                   0.037631                                  -0.0\n",
      "4171  Q8K2Z2    Prpf39                                         0.0                               0.096667                              -0.096667                               0.0                                            -0.0                                   0.185267                                   0.185267                                  -0.0\n",
      "4172  Q6ZQ38     Cand1                                         0.0                               0.020000                              -0.020000                               0.0                                            -0.0                                   0.201522                                   0.201522                                   NaN\n",
      "\n",
      "[4173 rows x 10 columns]\n"
     ]
    }
   ],
   "source": [
    "pp = PerseusPipeline(df=df, dict_col_group=dict_col_group)\n",
    "df_ratio_pval = pp.run(gmean=False)\n",
    "display(HTML(df_ratio_pval.to_html()))"
   ],
   "metadata": {
    "collapsed": false,
    "pycharm": {
     "name": "#%%\n"
    }
   }
  },
  {
   "cell_type": "markdown",
   "source": [
    "## 3. Volcano plot"
   ],
   "metadata": {
    "collapsed": false
   }
  },
  {
   "cell_type": "code",
   "execution_count": null,
   "outputs": [],
   "source": [
    "pp.volcano_plot(df_ratio_pval=df_ratio_pval,\n",
    "                col_pval=\"-log10 p value (WT_8weeks/Npc1-/-_8weeks)\",\n",
    "                col_ratio=\"log2 ratio (WT_8weeks/Npc1-/-_8weeks)\",\n",
    "                th_filter=(0.05, 0.5),\n",
    "                th_text=(0.05, -2.5, 2.5),\n",
    "                force=(0.9, 0.50, 0.25),\n",
    "                avoid_conflict=0.2,\n",
    "                precision=0.01,\n",
    "                box=True,\n",
    "                verbose=True,\n",
    "                label_bold=False,\n",
    "                label_size=10,\n",
    "                filled_circle=True,\n",
    "                title=\"Test_Volcano_mean\",\n",
    "                fig_format=\"svg\")\n",
    "plt.show()"
   ],
   "metadata": {
    "collapsed": false,
    "pycharm": {
     "name": "#%%\n",
     "is_executing": true
    }
   }
  }
 ],
 "metadata": {
  "kernelspec": {
   "name": "pycharm-d9ae9d30",
   "language": "python",
   "display_name": "PyCharm (PerseusPy)"
  },
  "language_info": {
   "codemirror_mode": {
    "name": "ipython",
    "version": 2
   },
   "file_extension": ".py",
   "mimetype": "text/x-python",
   "name": "python",
   "nbconvert_exporter": "python",
   "pygments_lexer": "ipython2",
   "version": "2.7.6"
  }
 },
 "nbformat": 4,
 "nbformat_minor": 0
}