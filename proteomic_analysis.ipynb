{
 "cells": [
  {
   "cell_type": "markdown",
   "source": [
    "# Proteomics analysis using PerseusPy\n",
    "A simple proteomics analysis by calculating the log2 fold changes (rations) as well as the p-values\n",
    "for mass spec intensities of various proteins between sample groups. The results are visualized using\n",
    "a Volcano plot."
   ],
   "metadata": {
    "collapsed": false
   }
  },
  {
   "cell_type": "code",
   "execution_count": null,
   "outputs": [],
   "source": [
    "import os\n",
    "import pandas as pd\n",
    "import matplotlib.pyplot as plt\n",
    "from IPython.display import display, HTML\n",
    "from perseuspy import PerseusPipeline, get_dict_groups\n",
    "\n",
    "# Settings\n",
    "pd.set_option('display.max_rows', 100)\n",
    "pd.set_option('display.max_columns', 100)\n",
    "pd.set_option('display.width', 1000)\n",
    "FOLDER_DATA = os.path.dirname(os.path.abspath(\"__file__\")) + \"/data/\""
   ],
   "metadata": {
    "collapsed": false,
    "pycharm": {
     "name": "#%%\n"
    }
   }
  },
  {
   "cell_type": "markdown",
   "source": [
    "## Load data"
   ],
   "metadata": {
    "collapsed": false
   }
  },
  {
   "cell_type": "code",
   "execution_count": null,
   "outputs": [],
   "source": [
    "df = pd.read_csv(FOLDER_DATA + \"npc_symptomatic_mice.csv\")"
   ],
   "metadata": {
    "collapsed": false,
    "pycharm": {
     "name": "#%%\n",
     "is_executing": true
    }
   }
  },
  {
   "cell_type": "markdown",
   "source": [
    "# Perseus analysis\n",
    "## 1. Define groups for Perseus analysis\n",
    "Groups have to be defined and saved in a dictionary, which will be used to together with the input data\n",
    "as arguments for the PerseusPipeline object."
   ],
   "metadata": {
    "collapsed": false
   }
  },
  {
   "cell_type": "code",
   "execution_count": null,
   "outputs": [],
   "source": [
    "groups = [\"Npc1-/-_8weeks\", \"WT_8weeks\"]\n",
    "dict_col_group = get_dict_groups(df=df, lfq_str=\"Log2 LFQ\", groups=groups)"
   ],
   "metadata": {
    "collapsed": false,
    "pycharm": {
     "name": "#%%\n",
     "is_executing": true
    }
   }
  },
  {
   "cell_type": "markdown",
   "source": [
    "## 2. Run Perseus pipeline"
   ],
   "metadata": {
    "collapsed": false
   }
  },
  {
   "cell_type": "code",
   "execution_count": null,
   "outputs": [],
   "source": [
    "pp = PerseusPipeline(df=df, dict_col_group=dict_col_group)\n",
    "df_ratio_pval = pp.run(gmean=False)\n",
    "display(HTML(df_ratio_pval.head(10).to_html()))"
   ],
   "metadata": {
    "collapsed": false,
    "pycharm": {
     "name": "#%%\n",
     "is_executing": true
    }
   }
  },
  {
   "cell_type": "markdown",
   "source": [
    "## 3. Volcano plot"
   ],
   "metadata": {
    "collapsed": false
   }
  },
  {
   "cell_type": "code",
   "execution_count": null,
   "outputs": [],
   "source": [
    "pp.volcano_plot(df_ratio_pval=df_ratio_pval,\n",
    "                col_pval=\"-log10 p value (WT_8weeks/Npc1-/-_8weeks)\",\n",
    "                col_ratio=\"log2 ratio (WT_8weeks/Npc1-/-_8weeks)\",\n",
    "                th_filter=(0.05, 0.5),\n",
    "                th_text=(0.05, -2.5, 2.5),\n",
    "                force=(0.9, 0.50, 0.25),\n",
    "                avoid_conflict=0.2,\n",
    "                precision=0.01,\n",
    "                box=True,\n",
    "                verbose=True,\n",
    "                label_bold=False,\n",
    "                label_size=10,\n",
    "                filled_circle=True,\n",
    "                title=\"Test_Volcano_mean\",\n",
    "                fig_format=\"svg\")\n",
    "plt.show()"
   ],
   "metadata": {
    "collapsed": false,
    "pycharm": {
     "name": "#%%\n",
     "is_executing": true
    }
   }
  }
 ],
 "metadata": {
  "kernelspec": {
   "name": "python3",
   "language": "python",
   "display_name": "Python 3"
  },
  "language_info": {
   "codemirror_mode": {
    "name": "ipython",
    "version": 2
   },
   "file_extension": ".py",
   "mimetype": "text/x-python",
   "name": "python",
   "nbconvert_exporter": "python",
   "pygments_lexer": "ipython2",
   "version": "2.7.6"
  }
 },
 "nbformat": 4,
 "nbformat_minor": 0
}